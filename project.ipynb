{
 "cells": [
  {
   "cell_type": "code",
   "execution_count": null,
   "metadata": {},
   "outputs": [],
   "source": [
    "#imports & froms\n",
    "\n",
    "import csv\n",
    "import pandas as pd\n",
    "import matplotlib.pyplot as plt\n",
    "import numpy as np\n",
    "\n",
    "from matplotlib.image import imread\n",
    "from PIL import Image\n",
    "from keras.utils import to_categorical\n",
    "from keras.models import Sequential,Model\n",
    "from keras.layers import Dense,Conv2D,Flatten,Input,Activation,AveragePooling2D\n",
    "from keras.models import model_from_json"
   ]
  },
  {
   "cell_type": "code",
   "execution_count": null,
   "metadata": {},
   "outputs": [],
   "source": [
    "#data load\n",
    "\n",
    "data =pd.read_csv(\"training1.csv\")"
   ]
  },
  {
   "cell_type": "code",
   "execution_count": null,
   "metadata": {},
   "outputs": [],
   "source": [
    "#data process\n",
    "\n",
    "total_data=data.shape[0]\n",
    "classes=10\n",
    "\n",
    "nX=np.empty([total_data,64,64,3],dtype=np.float32)\n",
    "nY=np.empty([total_data,1],dtype=np.int32)\n",
    "\n",
    "for it in range(total_data):\n",
    "    nY[it]=data['digit'][it]\n",
    "    fname=data['filename'][it]\n",
    "    im1=Image.open('trainingimage1/'+fname)\n",
    "    im1=im1.resize((64,64),Image.NEAREST)\n",
    "    my_image=np.array(im1)\n",
    "    nX[it,:]=my_image\n",
    "\n",
    "nY=to_categorical(nY)\n",
    "indices=np.random.permutation(total_data)\n",
    "\n",
    "idX_train,idX_test=indices[:int(total_data*0.8)],indices[int(total_data*0.8):]\n",
    "trainX,testX=nX[idX_train,:],nX[idX_test,:]\n",
    "trainY,testY=nY[idX_train,:],nY[idX_test,:]\n",
    "\n",
    "trainX=trainX/255\n",
    "testX=testX/255"
   ]
  },
  {
   "cell_type": "code",
   "execution_count": null,
   "metadata": {},
   "outputs": [],
   "source": [
    "#model (Almost lenet-5)\n",
    "\n",
    "X_input = Input((64,64,3))\n",
    "X = Conv2D(6, (3, 3), strides=(1, 1),activation='relu', name='conv0')(X_input)\n",
    "X = AveragePooling2D((2, 2))(X)\n",
    "\n",
    "X = Conv2D(16, (3, 3), strides=(1, 1),activation='relu', name='conv1')(X_input)\n",
    "X = AveragePooling2D((2, 2))(X)\n",
    "\n",
    "X = Flatten()(X)\n",
    "X = Dense(120, activation='relu', name='fc0')(X)\n",
    "X = Dense(84, activation='relu', name='fc1')(X)\n",
    "\n",
    "X = Dense(10, activation='softmax', name='fc2')(X)\n",
    "model = Model(inputs=X_input, outputs=X, name='myModel')"
   ]
  },
  {
   "cell_type": "code",
   "execution_count": null,
   "metadata": {},
   "outputs": [],
   "source": [
    "#run model\n",
    "\n",
    "model.compile(optimizer='adam',loss='categorical_crossentropy',metrics=['accuracy'])\n",
    "model.fit(trainX,trainY,epochs=1,verbose=1)"
   ]
  },
  {
   "cell_type": "code",
   "execution_count": null,
   "metadata": {},
   "outputs": [],
   "source": [
    "#saving model\n",
    "\n",
    "model_json = model.to_json()\n",
    "with open(\"model.json\", \"w\") as json_file:\n",
    "    json_file.write(model_json)\n",
    "\n",
    "model.save_weights(\"modelWeights.h5\")\n",
    "print(\"Saved model to disk\")"
   ]
  },
  {
   "cell_type": "code",
   "execution_count": null,
   "metadata": {},
   "outputs": [],
   "source": [
    "#load model\n",
    "\n",
    "json_file = open('model.json', 'r')\n",
    "loaded_model_json = json_file.read()\n",
    "json_file.close()\n",
    "loaded_model = model_from_json(loaded_model_json)\n",
    "loaded_model.load_weights(\"modelWeights.h5\")"
   ]
  },
  {
   "cell_type": "code",
   "execution_count": null,
   "metadata": {},
   "outputs": [],
   "source": [
    "#predict many\n",
    "result=model.evaluate(testX,testY)\n",
    "print(result[1])\n",
    "\n",
    "#predicting Single Image\n",
    "im1 = Image.open('ok6.png')\n",
    "im2 = im1.resize((64, 64), Image.NEAREST) \n",
    "my_image = np.array(im2)\n",
    "my_image=my_image/255\n",
    "print(my_image.shape)\n",
    "plt.imshow(my_image)\n",
    "my_image=my_image.reshape(1,64,64,3)\n",
    "print(model.predict(my_image))\n"
   ]
  }
 ],
 "metadata": {
  "kernelspec": {
   "display_name": "Python 3",
   "language": "python",
   "name": "python3"
  },
  "language_info": {
   "codemirror_mode": {
    "name": "ipython",
    "version": 3
   },
   "file_extension": ".py",
   "mimetype": "text/x-python",
   "name": "python",
   "nbconvert_exporter": "python",
   "pygments_lexer": "ipython3",
   "version": "3.7.4"
  }
 },
 "nbformat": 4,
 "nbformat_minor": 2
}
